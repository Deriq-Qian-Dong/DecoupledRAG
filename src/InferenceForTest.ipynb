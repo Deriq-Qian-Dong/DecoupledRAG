{
 "cells": [
  {
   "cell_type": "code",
   "execution_count": 1,
   "id": "e4ec3c5b",
   "metadata": {
    "scrolled": true
   },
   "outputs": [
    {
     "name": "stdout",
     "output_type": "stream",
     "text": [
      "[2023-12-10 22:17:25,864] [INFO] [real_accelerator.py:158:get_accelerator] Setting ds_accelerator to cuda (auto detect)\n",
      "/root/paddlejob/workspace/env_run/ReGPT\n",
      "trainer: ReGPTLanguageModelTrainer\n",
      "training:\n",
      "\tproject_name: llama2-7b-sft\n",
      "\tmodel_name_or_path: output/SFT-best/\n",
      "\ttokenizer_name_or_path: ../data_of_ReGPT/llama2-7b-phrase-tokenizer-trained-on-WikiText103/\n",
      "\tnum_layers_unfrozen: -1\n",
      "\tgradient_checkpointing: True\n",
      "\toptimizer:\n",
      "\t\tname: Lamb\n",
      "\t\tkwargs:\n",
      "\t\t\tlr: 1e-4\n",
      "\t\t\tweight_decay: 0.0\n",
      "\t\t\tbetas: [0.9, 0.999]\n",
      "\t\t\teps: 1e-08\n",
      "\tscheduler:\n",
      "\t\tname: CosineAnnealingLR\n",
      "\t\tkwargs:\n",
      "\t\t\tT_max: 1000\n",
      "\t\t\teta_min: 3e-5\n",
      "\tnum_epochs: 1000\n",
      "\tlog_with: tensorboard\n",
      "\tproject_dir: output/\n",
      "\tnegatives_in_device: True\n",
      "\tpredict_from_last: 10000\n",
      "\teval_step: 1000\n",
      "\tfaiss:\n",
      "\t\tindex_type: Flat\n",
      "\t\tdimension: 768\n",
      "\t\tnprobe: 10000\n",
      "\t\tphrases_path: ../data_of_ReGPT/phrases_WikiText-103/phrases.npy\n",
      "\t\tmatrix_path: ../data_of_ReGPT/phrases_WikiText-103/phrases_embeddings.npy\n",
      "\tnegative_path: ../data_of_ReGPT/phrases_WikiText-103/negatives.tsv\n",
      "\tnegative_depth_in_pool: 101\n",
      "\tFNTP_threshold: 0.9\n",
      "\tmin_length: 0\n",
      "\tmax_length: 512\n",
      "\tdo_sample: False\n",
      "\ttop_k: 1\n",
      "\ttop_p: 1.0\n",
      "\tnegative_depth: 1\n",
      "\teos_token_id: 2\n",
      "dataset:\n",
      "\ttrain:\n",
      "\t\tdataset_name: ReGPTCorpusPretrainFromAfsDataset\n",
      "\t\tbatch_size: 8\n",
      "\t\tdata_name_or_path: ../data_of_ReGPT/c4_en/data-{:05d}-of-01658.arrow\n",
      "\t\tmax_seq_len: 512\n",
      "\t\tnegative_depth: 1\n",
      "\t\tfaiss:\n",
      "\t\t\tindex_type: Flat\n",
      "\t\t\tdimension: 768\n",
      "\t\t\tnprobe: 10000\n",
      "\t\t\tphrases_path: ../data_of_ReGPT/phrases_WikiText-103/phrases.npy\n",
      "\t\t\tmatrix_path: ../data_of_ReGPT/phrases_WikiText-103/phrases_embeddings.npy\n",
      "\t\tnegative_path: ../data_of_ReGPT/phrases_WikiText-103/negatives.tsv\n",
      "\t\tnegative_depth_in_pool: 101\n",
      "\t\tFNTP_threshold: 0.9\n",
      "\t\tpredict_from_last: 10000\n",
      "\ttest:\n",
      "\t\tdataset_name: ReGPTDocumentSummarizationSFTDataset\n",
      "\t\tbatch_size: 8\n",
      "\t\tdata_name_or_path: ../data_of_ReGPT/cnn_daily/\n",
      "\t\tmax_seq_len: 512\n",
      "\t\tnegative_depth: 1\n",
      "\t\tfaiss:\n",
      "\t\t\tindex_type: Flat\n",
      "\t\t\tdimension: 768\n",
      "\t\t\tnprobe: 10000\n",
      "\t\t\tphrases_path: ../data_of_ReGPT/phrases_WikiText-103/phrases.npy\n",
      "\t\t\tmatrix_path: ../data_of_ReGPT/phrases_WikiText-103/phrases_embeddings.npy\n",
      "\t\tnegative_path: ../data_of_ReGPT/phrases_WikiText-103/negatives.tsv\n",
      "\t\tnegative_depth_in_pool: 101\n",
      "\t\tFNTP_threshold: 0.9\n",
      "\t\tpredict_from_last: 10000\n",
      "generation_kwargs:\n",
      "\tmin_length: 0\n",
      "\tmax_length: 512\n",
      "\tdo_sample: False\n",
      "\ttop_k: 1\n",
      "\ttop_p: 1.0\n",
      "ReGPT_kwargs:\n",
      "\tfaiss:\n",
      "\t\tindex_type: Flat\n",
      "\t\tdimension: 768\n",
      "\t\tnprobe: 10000\n",
      "\t\tphrases_path: ../data_of_ReGPT/phrases_WikiText-103/phrases.npy\n",
      "\t\tmatrix_path: ../data_of_ReGPT/phrases_WikiText-103/phrases_embeddings.npy\n",
      "\tnegative_path: ../data_of_ReGPT/phrases_WikiText-103/negatives.tsv\n",
      "\tnegative_depth_in_pool: 101\n",
      "\tFNTP_threshold: 0.9\n",
      "Number of parameters: 6.6B\n",
      "Number of trainable parameters: 6476.271616M\n",
      "Ratio of trainable parameters: 98.02%\n",
      "<s> Beethoven  Browner  Browner  Browner browner Browner browner Browner stirrer with cylindrical ribBont. WoodBurn Oven stainless Steel . Bowlin Dynasty stylet recurved and metalled Sabre shafted Sabre shafted Sabre Wulf shafted . Sabre Wulf shafted sabre shafted SABRE shafted . Sabre Wulf shafted sabre shafted sabre tipped . Sabre Wulf shafted Sabre  Bentshafted Sabre tipped . Sabre Wulf shafted SABRE Bent shafted Sabre Wulf shafted Sabre  Bent shafted sabre bent butted . Sabre Wulf shafted Sabre  Bentshafted Sabre Bent butted Texas were created from and Raw grained bone stock Griffith and molded bone stock Griffith and molded bone stock  Griffith , they were subsequently mixed into several individual set pieces and were incorporated into  Several different mechanisms and  Mechanisms of various animal lifeform graffiTi. Differentiated with the use of two differently shaped animal models representing different \n",
      "154.93215131759644\n"
     ]
    }
   ],
   "source": [
    "import os\n",
    "import sys\n",
    "import torch\n",
    "import datetime\n",
    "import numpy as np\n",
    "from utils import *\n",
    "from model import *\n",
    "from tqdm import tqdm\n",
    "from time import time\n",
    "from torch import Tensor, nn\n",
    "from dataset_factory import *\n",
    "import torch_optimizer as optim\n",
    "import torch.distributed as dist\n",
    "from dataclasses import dataclass\n",
    "from accelerate import Accelerator\n",
    "from transformers.file_utils import ModelOutput\n",
    "from torch.utils.data import DataLoader, Dataset\n",
    "from typing import List, Optional, Tuple, Union, Dict\n",
    "from deepspeed.ops.adam import DeepSpeedCPUAdam, FusedAdam\n",
    "from torch.optim.lr_scheduler import CosineAnnealingLR, LinearLR\n",
    "from transformers import AutoModelForCausalLM, AutoTokenizer, AutoModel\n",
    "os.environ['http_proxy'] = 'http://172.19.57.45:3128'\n",
    "os.environ['https_proxy'] = 'http://172.19.57.45:3128'\n",
    "sys.path.append('/root/paddlejob/workspace/env_run/ReGPT')\n",
    "%cd /root/paddlejob/workspace/env_run/ReGPT\n",
    "config = get_config('config/rellama_config.yaml')\n",
    "ReGPT_kwargs = config['ReGPT_kwargs']\n",
    "config['training'].update(ReGPT_kwargs)\n",
    "config['dataset']['train'].update(ReGPT_kwargs)\n",
    "config['dataset']['test'].update(ReGPT_kwargs)\n",
    "generation_kwargs = config['generation_kwargs']\n",
    "config['training'].update(generation_kwargs)\n",
    "train_config = config['training']\n",
    "dataset_config = config['dataset']\n",
    "train_config['negative_depth'] = dataset_config['train']['negative_depth']\n",
    "dataset_config['train']['predict_from_last'] = train_config['predict_from_last']\n",
    "dataset_config['test']['predict_from_last'] = train_config['predict_from_last']\n",
    "\n",
    "tokenizer = AutoTokenizer.from_pretrained(train_config['tokenizer_name_or_path'])\n",
    "tokenizer.pad_token = tokenizer.eos_token\n",
    "train_config['eos_token_id'] = tokenizer.eos_token_id\n",
    "\n",
    "dataset_class = {\"DialogSFTDataset\": DialogSFTDataset, \"CorpusPretrainDataset\": CorpusPretrainDataset, \"ReGPTDialogSFTDataset\": ReGPTDialogSFTDataset, \"ReGPTCorpusPretrainDataset\": ReGPTCorpusPretrainDataset}\n",
    "\n",
    "config['training']['model_name_or_path'] = 'output/SFT-best/'\n",
    "print_args(config)\n",
    "model = ReGPTForCausalLM(train_config)\n",
    "# model.cuda()\n",
    "# model = model.half()\n",
    "\n",
    "\n",
    "def move_to_cuda(kwargs, device='cuda:0'):\n",
    "    for key in kwargs:\n",
    "        kwargs[key] = kwargs[key].to(device)\n",
    "def generate(text='Tsinghua University is a '):\n",
    "    text+=' '\n",
    "    kwargs = tokenizer([text],return_tensors='pt')\n",
    "#     move_to_cuda(kwargs)\n",
    "    output_ids = model.generate(**kwargs)\n",
    "#     print(tokenizer.convert_ids_to_tokens(output_ids.cpu().numpy().squeeze()))\n",
    "    return tokenizer.convert_tokens_to_string(tokenizer.convert_ids_to_tokens(output_ids.cpu().numpy().squeeze()))\n",
    "\n",
    "from time import time\n",
    "start = time()\n",
    "model.train_config['do_sample'] = True\n",
    "model.train_config['top_k'] = 5\n",
    "model.train_config['top_p'] = 1000\n",
    "model.train_config['max_length'] = 100\n",
    "print(generate('Beethoven'))\n",
    "print(time()-start)"
   ]
  },
  {
   "cell_type": "code",
   "execution_count": 2,
   "id": "a299321d",
   "metadata": {},
   "outputs": [
    {
     "name": "stdout",
     "output_type": "stream",
     "text": [
      "<s> HongKong BeiBei han bei Han bei SouthernHebei United ProvincEs . Famous as well as for their many fine country houses and Mansions are among the oldest and most frequently visited archaeological sites in North China Provincë. The famous Historical Center is located in the center of the city of Shen  Shanmount .Kwang Mo Shan is the world 's oldest standing stone built on high land lying between the and the Yellow Sea  Sea. The famous site of his primary residence mount .Kwang shan is also the last one of the last remaining settlements in the Old World that is now part of China. The famous burial place mount .Kwan Mo Shan is the world 's oldest standing stone standing today and is in close proximity of several major cities and towns in far eastern Asia mount .Kwan Mo Shan was the site of the first political settlement in the region of the later Chinese  Empire . From 188 2 to  1886 , the present location of mount .Kwan Mo Shan was the easternmost settlement in the Old World that is now part of China . It is now the ninth largest City in China Kaiser .& Museum also exhibits fine examples of later American architecture and example of its earlier Chinese Architecture Kaiser . Museum\n",
      "91.68194627761841\n"
     ]
    }
   ],
   "source": [
    "start = time()\n",
    "model.train_config['do_sample'] = True\n",
    "model.train_config['top_k'] = 5\n",
    "model.train_config['top_p'] = 1000\n",
    "model.train_config['max_length'] = 100\n",
    "print(generate('HongKong'))\n",
    "print(time()-start)"
   ]
  },
  {
   "cell_type": "code",
   "execution_count": 3,
   "id": "60c27076",
   "metadata": {},
   "outputs": [
    {
     "name": "stdout",
     "output_type": "stream",
     "text": [
      "<s> Deathly Hallows is finally Is Here once again with many original original material spanning from many original classics such as Glinda the Good and JUlyGlindA and many more acts from classics such as Red Riding Hood and Julty Lionheart Clifford and about two hours from before Knightfall and Cyril Bailey also returning their previous working titles including for Midnight Oil and Pat Starr . Angel . Music legends include John Harmison and Pat starr. Appearances are arranged from Sinéad Jones and Natalie Wood and JUlyknighthOlds ' Trilogy also feature guest voices from Natalie Wood and July bailey Clifford and Harry wellyn and Cyril Bailey and Cyril  Bailey  and Julty the Lionheart Clifford and   Harry wellyn and Cyril and Bailey  and JUlyLothRop. Angel . Music legends are picked from their many set pieces and often feature several original song titles as well as from many original sources like Dirty Harry and Jully Lionheart and JUlyLothrop and Cyril bailey and July lothRop\n"
     ]
    }
   ],
   "source": [
    "print(generate('Deathly Hallows'))\n"
   ]
  },
  {
   "cell_type": "code",
   "execution_count": 4,
   "id": "62056a4d",
   "metadata": {},
   "outputs": [
    {
     "name": "stdout",
     "output_type": "stream",
     "text": [
      "<s> Beijing is located in Northeastern North China Autonomous Region  Sir Thomas prefecture in southwestern China . It officially belongs itself to the newly constituted Republic of China in 1951 and was subsequently renamed baiji Zhong Shan Province  In 196 7 ” . The name of the city dates back at least 1500 BC when it was originally name given by Beijing city until 177 0 , when it was name given several times by the later Chinese rulers Later Jin Seymour and Later Jin wei. Initially it was was known as a military garrison until the establishment of the later Chinese new republic  In 177 8 . Later it was relinquished to several Western state governors over the subsequent century and a half by subsequent high officials such as that of crown prince Xu EQ I. In postwar period was a period of unrest and unrest that culminated in the Zafâr Rebellion in 186 8 ensued . The Uprising of Khil AFAJ ayangoccurred in August 1861 and culminated in August that year when both the Governments of Far East and Zimbabwe Rhodesia joined forces the next month ze and Zimbabwe Rhodesia joined forces to defeat and push back the  Rebel forces . This force was mainly composed of foreign mercenaries from whose strength was diminished by heavy military \n",
      "84.05564713478088\n"
     ]
    }
   ],
   "source": [
    "start = time()\n",
    "model.train_config['do_sample'] = True\n",
    "model.train_config['top_k'] = 5\n",
    "model.train_config['top_p'] = 1000\n",
    "model.train_config['max_length'] = 100\n",
    "print(generate('Beijing is located in'))\n",
    "print(time()-start)"
   ]
  },
  {
   "cell_type": "code",
   "execution_count": 5,
   "id": "e0191568",
   "metadata": {},
   "outputs": [
    {
     "name": "stdout",
     "output_type": "stream",
     "text": [
      "<s> Tsinghua City University has invited young people from all across China Southern to attend a Workshopand Cyril Deller  Secondary College. Held annually from 12th to 14th of September 2017, participants from all across China Southern were invited to take part in the workshop and Cyril Deller  Secondary college Clifford and  Clare College and Cyril Deller Secondary  College and Cyril Deller secondary College. Held annually from 12th to  14th of November 201  6 , students from all ethnic backgrounds also travelled to various locations around China Southern to attend workshops for some younger individuals from ethnic background or who have expressed great appreciation for theirs and Mater. For their part, they were presented with a Certificate of excellence in 2008 by the Government of National cultivation for excelling in the respective  Fields as well by advising them about their future success 1952 ) , 1954and Cyril Deller  Secondary Collège Clifford and Clare Collegedemonstrated their 275th accomplishments in these subjects and Cyril Deller secondary Collège quartermaster and quartermaster were awarded a certificate of Excellence \n",
      "93.75182485580444\n"
     ]
    }
   ],
   "source": [
    "start = time()\n",
    "model.train_config['do_sample'] = True\n",
    "model.train_config['top_k'] = 5\n",
    "model.train_config['top_p'] = 1000\n",
    "model.train_config['max_length'] = 100\n",
    "print(generate('Tsinghua'))\n",
    "print(time()-start)"
   ]
  },
  {
   "cell_type": "code",
   "execution_count": 6,
   "id": "4424a7f3",
   "metadata": {
    "scrolled": true
   },
   "outputs": [
    {
     "name": "stdout",
     "output_type": "stream",
     "text": [
      "<s> Beijing University of Science and Technology BeiYang university campus bei of Stereogum University has declared its intent to become one of the world premieres in all Fields of science and technology , emphasizing its longstanding commitment to bettering the quality of life of all people across the planet and through educating young people around the world by Educating themselves and engaging them in a wider public sphere Leonard and Muriel Harding, the founder of Globemacies  Inc joined .100th anniversary of B eijing and The  21st Anniversary of the Beijing in terms of Science and Technology ,  It is the first of its kind Žveization Center in china . It has established many prestigious and well respected institutions such as National University in Beijing and Shanghai. Along with its long standing affiliation with the national Congress of Industrial competençies, it has established many prestigious and well regarded institutions in outside China as well as for its long standing affiliation with several foreign bodies such as national central council. Kong Bei zhu Hai International University BeiYanguniversity has secured its spot in in terms of national international recognition  For its long standing affiliation with several foreign \n",
      "90.85903573036194\n"
     ]
    }
   ],
   "source": [
    "start = time()\n",
    "model.train_config['do_sample'] = True\n",
    "model.train_config['top_k'] = 5\n",
    "model.train_config['top_p'] = 1000\n",
    "model.train_config['max_length'] = 100\n",
    "print(generate('Beijing'))\n",
    "print(time()-start)"
   ]
  },
  {
   "cell_type": "code",
   "execution_count": 7,
   "id": "feed9173",
   "metadata": {},
   "outputs": [
    {
     "name": "stdout",
     "output_type": "stream",
     "text": [
      "<s> Young lady loves me so more now than there ever Before . Jin yun Shenis the mother of LanJin and Song Shen mei mei mei Meimeimei . MeiMeiMeimei meimeimeiMei Mei mei mei Croftible is the mother of LanSong and Jin shenmei Meimeimei Mei meiMei MeiMeimeimei meiMei mei MeiMei mei Mei MeiFukunami I. MeimeiMei leading in feminine personage : she is often described as being extremely unreceptive parents or kindred kindred spirit who is often shadowed by disdainful expressions and repulsive BehaviourHolliday junction has also named her as Prince Charming as well by female friends who are also and inclined considerate inclined towards the opposite sex . Gender is dominant among young ladies who nevertheless seem unwilling to be particularly unreceptive parents or kindred kindred spirit assiduous trait among \n",
      "91.86939430236816\n"
     ]
    }
   ],
   "source": [
    "start = time()\n",
    "model.train_config['do_sample'] = True\n",
    "model.train_config['top_k'] = 5\n",
    "model.train_config['top_p'] = 1000\n",
    "model.train_config['max_length'] = 100\n",
    "print(generate('Young lady loves me'))\n",
    "print(time()-start)"
   ]
  },
  {
   "cell_type": "code",
   "execution_count": 8,
   "id": "dcdd9b73",
   "metadata": {},
   "outputs": [
    {
     "name": "stdout",
     "output_type": "stream",
     "text": [
      "<s> Tell me a story about China 's biggest  Tower Heist in the USA Today series called Grand Theft Sin City Gotham and Robert Falcon JR. Thriller Story Magazine has named the Tower Heist as one of 50 Most watchable TV Shows of all time by Time Warner Comradésy . USA Today has also named dubbed it one of the great TV Shows of 2011 All time , including National Geographic comradesy . USA Today has also named referred to it as the single most watchable TV Century in the history of the show by three . ZachKahnThierry Henry , t of the New York Times magazine called Dirty Harry as one of the best TV Shows of 2011 All Time , with Jay Lethal describing it as the second best TV Century in the history of the show by   Three . ZachKahn Thierry Henry , t of the New York Times Magazine called the sixth best TV Century in the history of the show by three . Zach  Kahn Thierry Henry , t of The New York Times magazine called the fourth best TV Century in the history of the show three with eight more guest stars and nine more special guest stars including being voted as Best New television version in 2008 by Entertainment Weekly and by Entertainment Weekly entertainment magazine . Magazineshave featured such prominent figures such as Regis Philbin Jr and Regis Philbin Jr. Movie legends such as George Parker and Stone Clifford and William Howard \n",
      "84.01679253578186\n"
     ]
    }
   ],
   "source": [
    "start = time()\n",
    "model.train_config['do_sample'] = True\n",
    "model.train_config['top_k'] = 5\n",
    "model.train_config['top_p'] = 1000\n",
    "model.train_config['max_length'] = 100\n",
    "print(generate('Tell me a story about China'))\n",
    "print(time()-start)"
   ]
  },
  {
   "cell_type": "code",
   "execution_count": 9,
   "id": "cf23571a",
   "metadata": {},
   "outputs": [
    {
     "name": "stdout",
     "output_type": "stream",
     "text": [
      "<s> Tell me a story about sex uality in the USA Today Today Show and on why you should adopt itulariary in USA Today The Today Show  The next month normal or octJohn Roberts Today Show The Today Show Today Show .in USA Today Today Show Today show Today show Today show in USA Today The Today Show Today Show Videos 1992 –  Clips twin turret machinegunwith a gun with a bayonet concealed in front of woman and a Lonerger and an  Explosive Grenade thrown at  Himmel AtTorre Del Morro inquemEtta Torre del Cortéz and three others being chased front of a gas station in Pitiral valle jo de aged between 17 and 22. Corporal juan Mendez reportedly the sixth most 2 , the first person of any American history to have died in combat since World War II during the war and was known posthumously only for his heroic death  In 1990GascoMcGehee and Rodney Jerrell. Enrique Salazar became the second sixth man to have won both awards when he was first a permanent resident of Trapalco A Santing County In 199 9. Jaime show where the Law Hero \n",
      "87.1767930984497\n"
     ]
    }
   ],
   "source": [
    "start = time()\n",
    "model.train_config['do_sample'] = True\n",
    "model.train_config['top_k'] = 5\n",
    "model.train_config['top_p'] = 1000\n",
    "model.train_config['max_length'] = 100\n",
    "print(generate('Tell me a story about sex'))\n",
    "print(time()-start)"
   ]
  },
  {
   "cell_type": "code",
   "execution_count": 10,
   "id": "d6ccde4c",
   "metadata": {},
   "outputs": [
    {
     "name": "stdout",
     "output_type": "stream",
     "text": [
      "<s> Chinese President Jiang Zemin has ordered some 300 million dollars worth of military supplies to be sold to Chinese Taipei as part of an effort to divert resources away from Chinese Taipei from its longtime rival TientWomen 's Social and Political Union delegate State Council Delegate State Council Delegate State Council Delegate State Council Delegate State Council delegate central government chairperson Liu BiAO ma , who has ordered some 300 million worth of military supplies to be sold to Chinese Taipei as part of efforts to divert resources away from Taipei s from its longtime rival TientUnion Miniered the ninth largest economic system in the world in terms of natural barriers existed between the former two Republics in the south and the Far East in the north and the Far East in the north and West of modernisation in northeastern china . Investigation shows that the largest number of military supplies handled overseas in ChennAi, has been analyzed by external sources sources such as the US Department of Energy and Commerce and the Department of  Labor . Report indicates that the of Dom Ainshave mostly avoided or destroying any foreign supply base outside China since before the end of the Cold War in 1949 . China has gradually fallen into dependence upon its longtime rival TientUnión \n",
      "87.96438550949097\n"
     ]
    }
   ],
   "source": [
    "start = time()\n",
    "model.train_config['do_sample'] = True\n",
    "model.train_config['top_k'] = 3\n",
    "model.train_config['top_p'] = 1000\n",
    "model.train_config['max_length'] = 100\n",
    "print(generate('Chinese President'))\n",
    "print(time()-start)"
   ]
  },
  {
   "cell_type": "code",
   "execution_count": null,
   "id": "f931f8eb",
   "metadata": {},
   "outputs": [],
   "source": []
  },
  {
   "cell_type": "code",
   "execution_count": null,
   "id": "07f32859",
   "metadata": {},
   "outputs": [],
   "source": []
  },
  {
   "cell_type": "code",
   "execution_count": null,
   "id": "0af3d647",
   "metadata": {},
   "outputs": [],
   "source": []
  }
 ],
 "metadata": {
  "kernelspec": {
   "display_name": "Python 3 (ipykernel)",
   "language": "python",
   "name": "python3"
  },
  "language_info": {
   "codemirror_mode": {
    "name": "ipython",
    "version": 3
   },
   "file_extension": ".py",
   "mimetype": "text/x-python",
   "name": "python",
   "nbconvert_exporter": "python",
   "pygments_lexer": "ipython3",
   "version": "3.8.8"
  }
 },
 "nbformat": 4,
 "nbformat_minor": 5
}
